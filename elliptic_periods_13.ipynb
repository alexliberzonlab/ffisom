{
 "cells": [
  {
   "cell_type": "markdown",
   "metadata": {},
   "source": [
    "Let's investigate the conjecture on elliptic periods.\n",
    "\n",
    "We want to find a counter-example, i.e., we want to find a curve over $\\mathbb{F}_p$ such that a subgroup of order $ℓ$ is defined over an extension of degree $r|(ℓ-1)$, and such that the periods of that subgroup fall in a field smaller than $\\mathbb{F}_{p^r}$.\n",
    "\n",
    "To avoid pitfalls, we prefer having $r>2$, $ℓ≠p$, and maybe even $r≠p$. Since we have to mod-out the automorphisms of the curve, the smallest possible $ℓ$ to exhibit a counter-example is $13$, so that $(ℤ/13ℤ)^*/\\{±1\\}=\\mathcal{C}_2\\times\\mathcal{C}_3$.\n",
    "\n",
    "So, let's set $ℓ=13$, $r=3$. The elliptic period is defined as $x(P)+x([5]P)$ for $P$ a point of order 13 in a well chosen subgroup.\n",
    "\n",
    "We look for a curve that has $13$-torsion points in an extension of degree $3$.\n",
    "\n",
    "Here's an idea to generate tons of examples: take a curve over $ℚ$ with this property, and reduce modulo many primes. We are lucky: there are infinitely many such curves (<http://arxiv.org/pdf/1211.2188.pdf>, prop 31), and one such example is curve `147b1` in Cremona's database."
   ]
  },
  {
   "cell_type": "code",
   "execution_count": 1,
   "metadata": {
    "collapsed": false
   },
   "outputs": [
    {
     "data": {
      "text/plain": [
       "Elliptic Curve defined by y^2 + y = x^3 + x^2 - 114*x + 473 over Rational Field"
      ]
     },
     "execution_count": 1,
     "metadata": {},
     "output_type": "execute_result"
    }
   ],
   "source": [
    "E = EllipticCurve('147b1')\n",
    "E"
   ]
  },
  {
   "cell_type": "markdown",
   "metadata": {},
   "source": [
    "The curve is singular at $3$ and $7$"
   ]
  },
  {
   "cell_type": "code",
   "execution_count": 2,
   "metadata": {
    "collapsed": false
   },
   "outputs": [
    {
     "data": {
      "text/plain": [
       "-1 * 3 * 7^8"
      ]
     },
     "execution_count": 2,
     "metadata": {},
     "output_type": "execute_result"
    }
   ],
   "source": [
    "E.discriminant().factor()"
   ]
  },
  {
   "cell_type": "markdown",
   "metadata": {},
   "source": [
    "And certainly supersingular at $2$"
   ]
  },
  {
   "cell_type": "code",
   "execution_count": 3,
   "metadata": {
    "collapsed": false
   },
   "outputs": [
    {
     "data": {
      "text/plain": [
       "(-28672/3, -1 * 2^12 * 3^-1 * 7)"
      ]
     },
     "execution_count": 3,
     "metadata": {},
     "output_type": "execute_result"
    }
   ],
   "source": [
    "E.j_invariant(), E.j_invariant().factor()"
   ]
  },
  {
   "cell_type": "markdown",
   "metadata": {},
   "source": [
    "It's $13$-division polynomial factors as expected"
   ]
  },
  {
   "cell_type": "code",
   "execution_count": 4,
   "metadata": {
    "collapsed": false
   },
   "outputs": [
    {
     "data": {
      "text/plain": [
       "[3, 3, 78]"
      ]
     },
     "execution_count": 4,
     "metadata": {},
     "output_type": "execute_result"
    }
   ],
   "source": [
    "[f[0].degree() for f in E.division_polynomial(13).factor()]"
   ]
  },
  {
   "cell_type": "code",
   "execution_count": 5,
   "metadata": {
    "collapsed": false
   },
   "outputs": [
    {
     "data": {
      "text/plain": [
       "[(x^3 - 48*x^2 + 425*x - 1009, 1), (x^3 + x^2 - 114*x - 127, 1)]"
      ]
     },
     "execution_count": 5,
     "metadata": {},
     "output_type": "execute_result"
    }
   ],
   "source": [
    "facts = E.division_polynomial(13).factor()[:2]\n",
    "facts"
   ]
  },
  {
   "cell_type": "markdown",
   "metadata": {},
   "source": [
    "Let's look at multiplication by $5$. It's action on the abscissa is given by a rational fraction in $x$."
   ]
  },
  {
   "cell_type": "code",
   "execution_count": 6,
   "metadata": {
    "collapsed": false
   },
   "outputs": [
    {
     "data": {
      "text/plain": [
       "(x^25 + 11400*x^23 - 952440*x^22 + 21459390*x^21 - 109428732*x^20 - 4950010695*x^19 + 144784682400*x^18 - 181243777785*x^17 - 76264253249145*x^16 + 1852228009144500*x^15 - 17751704371327800*x^14 - 13405942951098075*x^13 + 2174244297003851940*x^12 - 23804139576831231690*x^11 + 121433153419916125074*x^10 - 449464862928041129205*x^9 + 5800247633495175127650*x^8 - 83614774727436641897175*x^7 + 721566408459768769400580*x^6 - 4069574415747167715056277*x^5 + 16123970604415307494932945*x^4 - 46252779384036854092437225*x^3 + 94273994056986749224110510*x^2 - 123535079543891692412564130*x + 77552624336221526363279505)/(25*x^24 + 200*x^23 - 70120*x^22 + 1425070*x^21 + 48308554*x^20 - 2610219360*x^19 + 43594684875*x^18 - 67903799190*x^17 - 9897608934825*x^16 + 202483959479556*x^15 - 2037974926602780*x^14 + 6054274701348300*x^13 + 169194401041110165*x^12 - 3540471811324712460*x^11 + 39604874743194363378*x^10 - 306463233082971903660*x^9 + 1678785952137330965175*x^8 - 5689479606125098303260*x^7 + 3210444480296511269595*x^6 + 76839986296881639452124*x^5 - 379972558692366773002065*x^4 + 584163989209171893761550*x^3 + 1091490755999416581874005*x^2 - 5298108546577918019618340*x + 5764429991723000943803364)"
      ]
     },
     "execution_count": 6,
     "metadata": {},
     "output_type": "execute_result"
    }
   ],
   "source": [
    "mul5 = E.multiplication_by_m(5)[0]\n",
    "mul5"
   ]
  },
  {
   "cell_type": "markdown",
   "metadata": {},
   "source": [
    "As we expect, multiplication by $5$ sends the abscissas of one factor to the other. We can verify this with a resultant."
   ]
  },
  {
   "cell_type": "code",
   "execution_count": 7,
   "metadata": {
    "collapsed": false
   },
   "outputs": [
    {
     "data": {
      "text/plain": [
       "True"
      ]
     },
     "execution_count": 7,
     "metadata": {},
     "output_type": "execute_result"
    }
   ],
   "source": [
    "_.<x,y> = QQ[]\n",
    "facts[0][0].resultant(mul5.denominator()*y - mul5.numerator()).univariate_polynomial().monic() == facts[1][0](y)"
   ]
  },
  {
   "cell_type": "code",
   "execution_count": 8,
   "metadata": {
    "collapsed": false
   },
   "outputs": [
    {
     "data": {
      "text/plain": [
       "True"
      ]
     },
     "execution_count": 8,
     "metadata": {},
     "output_type": "execute_result"
    }
   ],
   "source": [
    "facts[1][0].resultant(mul5.denominator()*y - mul5.numerator()).univariate_polynomial().monic() == facts[0][0](y)"
   ]
  },
  {
   "cell_type": "markdown",
   "metadata": {},
   "source": [
    "By the same resultant trick, we get the minimal polynomial of the elliptic period. Remember: the period is defined as $x(P)+x([5]P)$."
   ]
  },
  {
   "cell_type": "code",
   "execution_count": 9,
   "metadata": {
    "collapsed": false
   },
   "outputs": [
    {
     "data": {
      "text/plain": [
       "1347137238494276547832006567721872890819326613454654477690085519113574118965817601*y^3 - 63315450209230997748104308682928025868508350832368760451434019398337983591393427247*y^2 + 375851289539903156845129832394402536538592125153848599275533859832687179191463110679*y + 5430310208370428764310818474486869622892705578835712199568734727546817273551210749631"
      ]
     },
     "execution_count": 9,
     "metadata": {},
     "output_type": "execute_result"
    }
   ],
   "source": [
    "period = facts[0][0].resultant(mul5.denominator()*(y - x) - mul5.numerator()).univariate_polynomial()\n",
    "period"
   ]
  },
  {
   "cell_type": "markdown",
   "metadata": {},
   "source": [
    "Quite big coefficients, but let's look at the leading one"
   ]
  },
  {
   "cell_type": "code",
   "execution_count": 10,
   "metadata": {
    "collapsed": false
   },
   "outputs": [
    {
     "data": {
      "text/plain": [
       "7^96"
      ]
     },
     "execution_count": 10,
     "metadata": {},
     "output_type": "execute_result"
    }
   ],
   "source": [
    "period.leading_coefficient().factor()"
   ]
  },
  {
   "cell_type": "markdown",
   "metadata": {},
   "source": [
    "Ahah! Only the singular prime appears in it! Of course not a coincidence.\n",
    "\n",
    "Let's simplify"
   ]
  },
  {
   "cell_type": "code",
   "execution_count": 11,
   "metadata": {
    "collapsed": false
   },
   "outputs": [
    {
     "data": {
      "text/plain": [
       "y^3 - 47*y^2 + 279*y + 4031"
      ]
     },
     "execution_count": 11,
     "metadata": {},
     "output_type": "execute_result"
    }
   ],
   "source": [
    "period = period.monic()\n",
    "period"
   ]
  },
  {
   "cell_type": "markdown",
   "metadata": {},
   "source": [
    "Surprisingly short!\n",
    "\n",
    "Just to be sure, let's check that this does not depend on the choice of the initial point."
   ]
  },
  {
   "cell_type": "code",
   "execution_count": 12,
   "metadata": {
    "collapsed": false
   },
   "outputs": [
    {
     "data": {
      "text/plain": [
       "True"
      ]
     },
     "execution_count": 12,
     "metadata": {},
     "output_type": "execute_result"
    }
   ],
   "source": [
    "facts[1][0].resultant(mul5.denominator()*(y - x) - mul5.numerator()).univariate_polynomial().monic() == period"
   ]
  },
  {
   "cell_type": "markdown",
   "metadata": {},
   "source": [
    "So, now we look for a prime $p≠2,3,7$ such that the $13$-torsion points live in $\\mathbb{F}_{p^3}$, but the period lives in $\\mathbb{F}_p$.\n",
    "\n",
    "We can read this directly on the polynomials."
   ]
  },
  {
   "cell_type": "code",
   "execution_count": 13,
   "metadata": {
    "collapsed": false
   },
   "outputs": [
    {
     "data": {
      "text/plain": [
       "[(2, ([], [], [(1, 3)])),\n",
       " (3, ([], [], [])),\n",
       " (5, ([], [], [])),\n",
       " (7, ([(2, 3)], [(2, 3)], [(4, 3)])),\n",
       " (11, ([], [], [])),\n",
       " (13,\n",
       "  ([(10, 1), (8, 1), (4, 1)],\n",
       "   [(12, 1), (7, 1), (6, 1)],\n",
       "   [(4, 1), (3, 1), (1, 1)])),\n",
       " (17, ([], [], [])),\n",
       " (19, ([], [], [])),\n",
       " (23, ([], [], [])),\n",
       " (29,\n",
       "  ([(27, 1), (15, 1), (6, 1)],\n",
       "   [(23, 1), (22, 1), (12, 1)],\n",
       "   [(0, 1), (27, 1), (20, 1)])),\n",
       " (31, ([], [], [])),\n",
       " (37, ([], [], [])),\n",
       " (41,\n",
       "  ([(24, 1), (19, 1), (5, 1)],\n",
       "   [(18, 1), (15, 1), (7, 1)],\n",
       "   [(26, 1), (20, 1), (1, 1)])),\n",
       " (43,\n",
       "  ([(31, 1), (10, 1), (7, 1)],\n",
       "   [(21, 1), (15, 1), (6, 1)],\n",
       "   [(28, 1), (16, 1), (3, 1)])),\n",
       " (47, ([], [], [])),\n",
       " (53, ([], [], [])),\n",
       " (59, ([], [], [])),\n",
       " (61, ([], [], [])),\n",
       " (67, ([], [], [])),\n",
       " (71,\n",
       "  ([(69, 1), (35, 1), (15, 1)],\n",
       "   [(30, 1), (29, 1), (11, 1)],\n",
       "   [(64, 1), (28, 1), (26, 1)])),\n",
       " (73, ([], [], [])),\n",
       " (79, ([], [], [])),\n",
       " (83,\n",
       "  ([(61, 1), (51, 1), (19, 1)],\n",
       "   [(72, 1), (69, 1), (24, 1)],\n",
       "   [(50, 1), (43, 1), (37, 1)])),\n",
       " (89, ([], [], [])),\n",
       " (97,\n",
       "  ([(78, 1), (36, 1), (31, 1)],\n",
       "   [(95, 1), (80, 1), (18, 1)],\n",
       "   [(76, 1), (49, 1), (19, 1)]))]"
      ]
     },
     "execution_count": 13,
     "metadata": {},
     "output_type": "execute_result"
    }
   ],
   "source": [
    "def test(p):\n",
    "    R = PolynomialRing(GF(p), 'x')\n",
    "    return R(facts[0][0]).roots(), R(facts[1][0]).roots(), R(period).roots()\n",
    "\n",
    "[(p,test(p)) for p in primes(100)]"
   ]
  },
  {
   "cell_type": "markdown",
   "metadata": {},
   "source": [
    "Bad luck! Or maybe not.\n",
    "\n",
    "One thing is obvious: if the first two split, the third splits as well. The opposite is not so obvious, but there might be an easy explanation too.\n",
    "\n",
    "I'm testing for all (pseudo)-primes right now. No luck up to 6 millions :(\n",
    "\n",
    "Ok. Let's try with norms instead of traces."
   ]
  },
  {
   "cell_type": "code",
   "execution_count": 14,
   "metadata": {
    "collapsed": false
   },
   "outputs": [
    {
     "data": {
      "text/plain": [
       "1347137238494276547832006567721872890819326613454654477690085519113574118965817601*y^3 + 21554195815908424765312105083549966253109225815274471643041368305817185903453081616*y^2 - 5583883853558776290763667223207163132446108812769542810025404476725764723113313956145*y - 172626207152372079668836817607583957848260970227919788734640628675770728326636764844943"
      ]
     },
     "execution_count": 14,
     "metadata": {},
     "output_type": "execute_result"
    }
   ],
   "source": [
    "period2 = facts[0][0].resultant(mul5.denominator()*y - x*mul5.numerator()).univariate_polynomial()\n",
    "period2"
   ]
  },
  {
   "cell_type": "code",
   "execution_count": 15,
   "metadata": {
    "collapsed": false
   },
   "outputs": [
    {
     "data": {
      "text/plain": [
       "7^96"
      ]
     },
     "execution_count": 15,
     "metadata": {},
     "output_type": "execute_result"
    }
   ],
   "source": [
    "period2.leading_coefficient().factor()"
   ]
  },
  {
   "cell_type": "code",
   "execution_count": 16,
   "metadata": {
    "collapsed": false
   },
   "outputs": [
    {
     "data": {
      "text/plain": [
       "y^3 + 16*y^2 - 4145*y - 128143"
      ]
     },
     "execution_count": 16,
     "metadata": {},
     "output_type": "execute_result"
    }
   ],
   "source": [
    "period2 = period2.monic()\n",
    "period2"
   ]
  },
  {
   "cell_type": "code",
   "execution_count": 17,
   "metadata": {
    "collapsed": false
   },
   "outputs": [
    {
     "data": {
      "text/plain": [
       "True"
      ]
     },
     "execution_count": 17,
     "metadata": {},
     "output_type": "execute_result"
    }
   ],
   "source": [
    "facts[1][0].resultant(mul5.denominator()*y - x*mul5.numerator()).univariate_polynomial().monic() == period2"
   ]
  },
  {
   "cell_type": "code",
   "execution_count": 18,
   "metadata": {
    "collapsed": false
   },
   "outputs": [
    {
     "data": {
      "text/plain": [
       "[(2, ([], [], [])),\n",
       " (3, ([], [], [])),\n",
       " (5, ([], [], [])),\n",
       " (7, ([(2, 3)], [(2, 3)], [(4, 3)])),\n",
       " (11, ([], [], [])),\n",
       " (13,\n",
       "  ([(10, 1), (8, 1), (4, 1)], [(12, 1), (7, 1), (6, 1)], [(5, 1), (9, 2)])),\n",
       " (17, ([], [], [])),\n",
       " (19, ([], [], [])),\n",
       " (23, ([], [], [])),\n",
       " (29,\n",
       "  ([(27, 1), (15, 1), (6, 1)],\n",
       "   [(23, 1), (22, 1), (12, 1)],\n",
       "   [(22, 1), (14, 1), (6, 1)])),\n",
       " (31, ([], [], [])),\n",
       " (37, ([], [], [])),\n",
       " (41,\n",
       "  ([(24, 1), (19, 1), (5, 1)],\n",
       "   [(18, 1), (15, 1), (7, 1)],\n",
       "   [(34, 1), (22, 1), (10, 1)])),\n",
       " (43,\n",
       "  ([(31, 1), (10, 1), (7, 1)],\n",
       "   [(21, 1), (15, 1), (6, 1)],\n",
       "   [(35, 1), (18, 1), (17, 1)])),\n",
       " (47, ([], [], [])),\n",
       " (53, ([], [], [])),\n",
       " (59, ([], [], [])),\n",
       " (61, ([], [], [])),\n",
       " (67, ([], [], [])),\n",
       " (71,\n",
       "  ([(69, 1), (35, 1), (15, 1)],\n",
       "   [(30, 1), (29, 1), (11, 1)],\n",
       "   [(23, 1), (21, 1), (11, 1)])),\n",
       " (73, ([], [], [])),\n",
       " (79, ([], [], [])),\n",
       " (83,\n",
       "  ([(61, 1), (51, 1), (19, 1)],\n",
       "   [(72, 1), (69, 1), (24, 1)],\n",
       "   [(76, 1), (41, 1), (33, 1)])),\n",
       " (89, ([], [], [])),\n",
       " (97,\n",
       "  ([(78, 1), (36, 1), (31, 1)],\n",
       "   [(95, 1), (80, 1), (18, 1)],\n",
       "   [(73, 1), (67, 1), (38, 1)]))]"
      ]
     },
     "execution_count": 18,
     "metadata": {},
     "output_type": "execute_result"
    }
   ],
   "source": [
    "def test2(p):\n",
    "    R = PolynomialRing(GF(p), 'x')\n",
    "    return R(facts[0][0]).roots(), R(facts[1][0]).roots(), R(period2).roots()\n",
    "\n",
    "[(p,test2(p)) for p in primes(100)]"
   ]
  },
  {
   "cell_type": "markdown",
   "metadata": {},
   "source": [
    "Ok. Something weird is happening for $p=13$, but nothing remarkable. Here too, no luck up to several millions.\n",
    "\n",
    "So, what does this tell us on the conjecture? Not much!\n",
    "\n",
    "Maybe it is easy to explain why if the trace/norm splits, then the torsion polynomials split too. Maybe this can open a path to show the conjecture. Or maybe not: after all, we may think of all these examples as the same curve.\n",
    "\n",
    "Maybe using more curves from the infinite family in <http://arxiv.org/pdf/1211.2188.pdf> can lead to a counter-example. Or maybe not.\n",
    "\n",
    "Whatever is true, more tought is needed."
   ]
  }
 ],
 "metadata": {
  "kernelspec": {
   "display_name": "Sage 6.9.beta7",
   "language": "",
   "name": "sage_6_9_beta7"
  },
  "language_info": {
   "codemirror_mode": {
    "name": "ipython",
    "version": 2
   },
   "file_extension": ".py",
   "mimetype": "text/x-python",
   "name": "python",
   "nbconvert_exporter": "python",
   "pygments_lexer": "ipython2",
   "version": "2.7.9"
  }
 },
 "nbformat": 4,
 "nbformat_minor": 0
}
